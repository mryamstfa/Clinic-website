{
  "nbformat": 4,
  "nbformat_minor": 0,
  "metadata": {
    "colab": {
      "provenance": [],
      "authorship_tag": "ABX9TyNXRTSyn7bX4sF6gVTn2DKj",
      "include_colab_link": true
    },
    "kernelspec": {
      "name": "python3",
      "display_name": "Python 3"
    },
    "language_info": {
      "name": "python"
    }
  },
  "cells": [
    {
      "cell_type": "markdown",
      "metadata": {
        "id": "view-in-github",
        "colab_type": "text"
      },
      "source": [
        "<a href=\"https://colab.research.google.com/github/mryamstfa/Clinic-website/blob/main/Task1.ipynb\" target=\"_parent\"><img src=\"https://colab.research.google.com/assets/colab-badge.svg\" alt=\"Open In Colab\"/></a>"
      ]
    },
    {
      "cell_type": "code",
      "execution_count": 34,
      "metadata": {
        "colab": {
          "base_uri": "https://localhost:8080/",
          "height": 679
        },
        "collapsed": true,
        "id": "O157LIyuYcKQ",
        "outputId": "40629213-8d3e-45ea-f636-c39a7b02db23"
      },
      "outputs": [
        {
          "output_type": "execute_result",
          "data": {
            "text/plain": [
              "ADDRESS                 0\n",
              "SUBURB                  0\n",
              "PRICE                   0\n",
              "BEDROOMS                0\n",
              "BATHROOMS               0\n",
              "GARAGE               2478\n",
              "LAND_AREA               0\n",
              "FLOOR_AREA              0\n",
              "BUILD_YEAR           3155\n",
              "CBD_DIST                0\n",
              "NEAREST_STN             0\n",
              "NEAREST_STN_DIST        0\n",
              "DATE_SOLD               0\n",
              "POSTCODE                0\n",
              "LATITUDE                0\n",
              "LONGITUDE               0\n",
              "NEAREST_SCH             0\n",
              "NEAREST_SCH_DIST        0\n",
              "NEAREST_SCH_RANK    10952\n",
              "dtype: int64"
            ],
            "text/html": [
              "<div>\n",
              "<style scoped>\n",
              "    .dataframe tbody tr th:only-of-type {\n",
              "        vertical-align: middle;\n",
              "    }\n",
              "\n",
              "    .dataframe tbody tr th {\n",
              "        vertical-align: top;\n",
              "    }\n",
              "\n",
              "    .dataframe thead th {\n",
              "        text-align: right;\n",
              "    }\n",
              "</style>\n",
              "<table border=\"1\" class=\"dataframe\">\n",
              "  <thead>\n",
              "    <tr style=\"text-align: right;\">\n",
              "      <th></th>\n",
              "      <th>0</th>\n",
              "    </tr>\n",
              "  </thead>\n",
              "  <tbody>\n",
              "    <tr>\n",
              "      <th>ADDRESS</th>\n",
              "      <td>0</td>\n",
              "    </tr>\n",
              "    <tr>\n",
              "      <th>SUBURB</th>\n",
              "      <td>0</td>\n",
              "    </tr>\n",
              "    <tr>\n",
              "      <th>PRICE</th>\n",
              "      <td>0</td>\n",
              "    </tr>\n",
              "    <tr>\n",
              "      <th>BEDROOMS</th>\n",
              "      <td>0</td>\n",
              "    </tr>\n",
              "    <tr>\n",
              "      <th>BATHROOMS</th>\n",
              "      <td>0</td>\n",
              "    </tr>\n",
              "    <tr>\n",
              "      <th>GARAGE</th>\n",
              "      <td>2478</td>\n",
              "    </tr>\n",
              "    <tr>\n",
              "      <th>LAND_AREA</th>\n",
              "      <td>0</td>\n",
              "    </tr>\n",
              "    <tr>\n",
              "      <th>FLOOR_AREA</th>\n",
              "      <td>0</td>\n",
              "    </tr>\n",
              "    <tr>\n",
              "      <th>BUILD_YEAR</th>\n",
              "      <td>3155</td>\n",
              "    </tr>\n",
              "    <tr>\n",
              "      <th>CBD_DIST</th>\n",
              "      <td>0</td>\n",
              "    </tr>\n",
              "    <tr>\n",
              "      <th>NEAREST_STN</th>\n",
              "      <td>0</td>\n",
              "    </tr>\n",
              "    <tr>\n",
              "      <th>NEAREST_STN_DIST</th>\n",
              "      <td>0</td>\n",
              "    </tr>\n",
              "    <tr>\n",
              "      <th>DATE_SOLD</th>\n",
              "      <td>0</td>\n",
              "    </tr>\n",
              "    <tr>\n",
              "      <th>POSTCODE</th>\n",
              "      <td>0</td>\n",
              "    </tr>\n",
              "    <tr>\n",
              "      <th>LATITUDE</th>\n",
              "      <td>0</td>\n",
              "    </tr>\n",
              "    <tr>\n",
              "      <th>LONGITUDE</th>\n",
              "      <td>0</td>\n",
              "    </tr>\n",
              "    <tr>\n",
              "      <th>NEAREST_SCH</th>\n",
              "      <td>0</td>\n",
              "    </tr>\n",
              "    <tr>\n",
              "      <th>NEAREST_SCH_DIST</th>\n",
              "      <td>0</td>\n",
              "    </tr>\n",
              "    <tr>\n",
              "      <th>NEAREST_SCH_RANK</th>\n",
              "      <td>10952</td>\n",
              "    </tr>\n",
              "  </tbody>\n",
              "</table>\n",
              "</div><br><label><b>dtype:</b> int64</label>"
            ]
          },
          "metadata": {},
          "execution_count": 34
        }
      ],
      "source": [
        "import pandas as pd\n",
        "import numpy as np\n",
        "file_path = '/content/sample_data/House_Prices.csv'\n",
        "df = pd.read_csv(file_path)\n",
        "#retrieve on null values and count each col\n",
        "missing_vals = [\"NA\", \"\",None, np.NaN]\n",
        "missing = df.isin(missing_vals)\n",
        "pd.isnull(df).sum()\n",
        "\n"
      ]
    },
    {
      "cell_type": "code",
      "source": [
        "#if % is small handle nulls with mean\n",
        "total_missing = df.isnull().sum().sum()\n",
        "total_cells = df.size\n",
        "missing_percentage = (total_missing / total_cells) * 100\n",
        "print(f\"Total percentage: {missing_percentage:.2f}%\")\n",
        "\n",
        "#mean is filling...\n",
        "dfm = df.select_dtypes(include=np.number)\n",
        "fillmean = dfm.mean()\n",
        "df[dfm.columns] = dfm.fillna(fillmean)\n",
        "print(\"Missing values filled with means.\")\n",
        "\n",
        "#remove duplication\n",
        "df.drop_duplicates(inplace=True)\n",
        "print(\"remove is completed.\")\n",
        "\n",
        "cleaned_filepath = '/content/clean_HousePrices.csv'\n",
        "df.to_csv(cleaned_filepath, index=False)\n",
        "print(f\" dataset changed saved as {cleaned_filepath}\")"
      ],
      "metadata": {
        "colab": {
          "base_uri": "https://localhost:8080/"
        },
        "collapsed": true,
        "id": "F_DshwFIcTGs",
        "outputId": "3fd530b0-8458-4649-af99-95e9c67b33f4"
      },
      "execution_count": 35,
      "outputs": [
        {
          "output_type": "stream",
          "name": "stdout",
          "text": [
            "Total percentage: 2.59%\n",
            "Missing values filled with means.\n",
            "remove is completed.\n",
            " dataset changed saved as /content/clean_HousePrices.csv\n"
          ]
        }
      ]
    }
  ]
}